{
 "cells": [
  {
   "cell_type": "markdown",
   "id": "fc63739d-efb4-4945-b668-dd60f4142b69",
   "metadata": {},
   "source": [
    "20231329 서원후 1차 프로그래밍 과제 코드"
   ]
  },
  {
   "cell_type": "code",
   "execution_count": 4,
   "id": "1baa4085-21e6-4830-a7e0-bcfb8e71602c",
   "metadata": {},
   "outputs": [],
   "source": [
    "import numpy as np\n",
    "import pandas as pd\n",
    "from pandas import Series, DataFrame #pandas 자료구조\n",
    "import matplotlib.pyplot as plt"
   ]
  },
  {
   "cell_type": "code",
   "execution_count": 5,
   "id": "cdc35349-7fa2-464f-955b-e2dc74f828e0",
   "metadata": {},
   "outputs": [],
   "source": [
    "plt.rc(\"figure\", figsize=(10, 6))\n",
    "PREVIOUS_MAX_ROWS = pd.options.display.max_rows\n",
    "pd.options.display.max_rows = 20\n",
    "pd.options.display.max_columns = 20\n",
    "pd.options.display.max_colwidth = 80 #아 데이터프레임을 위한 정보 저장\n",
    "np.set_printoptions(precision=4, suppress=True)\n",
    "plt.rcParams[\"font.family\"] = 'Malgun Gothic' # 한글 폰트 변경 정보"
   ]
  },
  {
   "cell_type": "code",
   "execution_count": 6,
   "id": "cd95d1b4-4785-45a4-99bf-c54dc18be9ea",
   "metadata": {},
   "outputs": [],
   "source": [
    "sdata = {\"Ohio\": 35000, \"Texas\": 71000, \"Oregon\": 16000, \"Utah\": 5000}\n",
    "states = [\"California\", \"Ohio\", \"Oregon\", \"Texas\"] \n",
    "obj4 = pd.Series(sdata, index=states)"
   ]
  },
  {
   "cell_type": "markdown",
   "id": "d0c558ff-c09f-411a-a983-4319c72c0cdf",
   "metadata": {},
   "source": [
    "1번"
   ]
  },
  {
   "cell_type": "code",
   "execution_count": 8,
   "id": "4e380d2c-e56b-491c-843c-72e3aa6cf380",
   "metadata": {},
   "outputs": [
    {
     "name": "stdout",
     "output_type": "stream",
     "text": [
      "연산 전의 obj4 의 값 :\n",
      " California        NaN\n",
      "Ohio          35000.0\n",
      "Oregon        16000.0\n",
      "Texas         71000.0\n",
      "dtype: float64\n",
      "\n",
      "연산 후의 obj4 의 값 : \n"
     ]
    },
    {
     "data": {
      "text/plain": [
       "California     1000.0\n",
       "Ohio          36000.0\n",
       "Oregon        17000.0\n",
       "Texas         72000.0\n",
       "dtype: float64"
      ]
     },
     "execution_count": 8,
     "metadata": {},
     "output_type": "execute_result"
    }
   ],
   "source": [
    "print(\"연산 전의 obj4 의 값 :\\n\", obj4)\n",
    "obj4_NaN = obj4.fillna(0) #fillna 대신에 na_rep 를 써도 될.... 될걸.... 잠깐... na_rep 어케쓴ㄴ거지 이건 또 csv ㄷㅔ이터에서만 해당되는 내용인듯....\n",
    "# 출처: https://rfriend.tistory.com/262 [R, Python 분석과 프로그래밍의 친구 (by R Friend):티스토리]\n",
    "print(\"\\n연산 후의 obj4 의 값 : \")\n",
    "obj4_NaN.add(1000)"
   ]
  },
  {
   "cell_type": "markdown",
   "id": "f179ce92-77b8-4059-9174-08e008b85c18",
   "metadata": {},
   "source": [
    "2번"
   ]
  },
  {
   "cell_type": "code",
   "execution_count": 10,
   "id": "fe6b4881-8eb5-456a-9e43-b577c22a0bb2",
   "metadata": {},
   "outputs": [
    {
     "data": {
      "text/plain": [
       "a     True\n",
       "b     True\n",
       "c    False\n",
       "d    False\n",
       "e     True\n",
       "f    False\n",
       "g    False\n",
       "h    False\n",
       "i    False\n",
       "j     True\n",
       "dtype: bool"
      ]
     },
     "execution_count": 10,
     "metadata": {},
     "output_type": "execute_result"
    }
   ],
   "source": [
    "sample = Series(data=[89,90,78,65,90,100,78,55,40,90], index=['a','b','c','d','e','f','g','h','i','j'])\n",
    "sample.isin([89])\n",
    "sample.isin([90, 89])"
   ]
  },
  {
   "cell_type": "markdown",
   "id": "8960ec35-6160-4e5a-8146-ba44275c65fc",
   "metadata": {},
   "source": [
    "3번 (sample은 2번에서 정의한 것을 사용한다)"
   ]
  },
  {
   "cell_type": "code",
   "execution_count": 12,
   "id": "1fdbfd2c-70a1-4405-8821-29d9f3a98bba",
   "metadata": {},
   "outputs": [
    {
     "name": "stdout",
     "output_type": "stream",
     "text": [
      "True\n"
     ]
    }
   ],
   "source": [
    "result = 90 in sample.values  # sample 데이터에 90이 있는지 확인 후 값을 result에 저장\n",
    "print(result)"
   ]
  },
  {
   "cell_type": "markdown",
   "id": "f8dd96ae-49ec-44c5-bace-06986efb8c47",
   "metadata": {},
   "source": [
    "4번 (sample은 2번에서 정의한 것을 사용한다)"
   ]
  },
  {
   "cell_type": "code",
   "execution_count": 14,
   "id": "fb3868ab-0072-409e-99d3-5563566293d3",
   "metadata": {},
   "outputs": [
    {
     "name": "stdout",
     "output_type": "stream",
     "text": [
      "True\n"
     ]
    }
   ],
   "source": [
    "result = \"b\" in sample.index\n",
    "print(result)"
   ]
  },
  {
   "cell_type": "markdown",
   "id": "849eaa91-4dbd-4c1a-be29-6c66334f8136",
   "metadata": {},
   "source": [
    "### [problem] sample 데이터에서 80 이상 데이터을 선택하시오.\n",
    "    sample = Series(data=[89,90,78,65,90,100,78,55,40,90], index=['a','b','c','d','e','f','g','h','i','j'])"
   ]
  },
  {
   "cell_type": "code",
   "execution_count": 15,
   "id": "5eedd7c3-19e5-4403-a708-e6a5170f4ca6",
   "metadata": {},
   "outputs": [
    {
     "data": {
      "text/plain": [
       "a     89\n",
       "b     90\n",
       "e     90\n",
       "f    100\n",
       "j     90\n",
       "dtype: int64"
      ]
     },
     "execution_count": 15,
     "metadata": {},
     "output_type": "execute_result"
    }
   ],
   "source": [
    "sample = Series(data=[89,90,78,65,90,100,78,55,40,90], index=['a','b','c','d','e','f','g','h','i','j'])\n",
    "bool_index = sample >= 80\n",
    "sample[bool_index]"
   ]
  },
  {
   "cell_type": "markdown",
   "id": "52b1818b-b2bc-491c-bc61-a5f5f6056265",
   "metadata": {},
   "source": [
    "5번 (problem에서 정의한 sample을 사용한다)"
   ]
  },
  {
   "cell_type": "code",
   "execution_count": 18,
   "id": "1e18ea72-9e5f-4a98-97b8-e7ce1f5feeef",
   "metadata": {},
   "outputs": [
    {
     "name": "stdout",
     "output_type": "stream",
     "text": [
      "77.5\n"
     ]
    },
    {
     "data": {
      "text/plain": [
       "d    65\n",
       "h    55\n",
       "i    40\n",
       "dtype: int64"
      ]
     },
     "execution_count": 18,
     "metadata": {},
     "output_type": "execute_result"
    }
   ],
   "source": [
    "average = sample.sum() / sample.count()\n",
    "print(average)\n",
    "\n",
    "underaverage_index = sample < average \n",
    "sample[underaverage_index]"
   ]
  },
  {
   "cell_type": "markdown",
   "id": "4df5e5f7-fd81-4374-a7b0-171219473868",
   "metadata": {},
   "source": [
    "6번 (problem에서 정의한 sample을 사용한다)"
   ]
  },
  {
   "cell_type": "code",
   "execution_count": 19,
   "id": "6fd85761-34d8-422c-bc75-e697a5890986",
   "metadata": {},
   "outputs": [
    {
     "data": {
      "text/plain": [
       "c    78\n",
       "d    65\n",
       "g    78\n",
       "dtype: int64"
      ]
     },
     "execution_count": 19,
     "metadata": {},
     "output_type": "execute_result"
    }
   ],
   "source": [
    "bool_index = (sample >= 60) & (sample <= 80)\n",
    "sample[bool_index]"
   ]
  },
  {
   "cell_type": "markdown",
   "id": "0ce58df6-67a2-4784-b66a-23e9175fc580",
   "metadata": {},
   "source": [
    "7번 2021, 2022, 2023년 3년간 대전, 대구, 부산, 광주, 원주의 5개 도시의 인구 수을 저장하는 데이터프레임 생성하기\n",
    "data = {'서울': [950, 945, 938], \n",
    "    '대전': [800, 790, 780],\n",
    "    '부산': [920, 910, 900],\n",
    "    '광주': [700, 690, 680],\n",
    "    '원주': [300, 290, 250]\n",
    "   }"
   ]
  },
  {
   "cell_type": "code",
   "execution_count": 21,
   "id": "2a963740-d424-43cd-962b-2cf50bd0d336",
   "metadata": {},
   "outputs": [
    {
     "data": {
      "text/html": [
       "<div>\n",
       "<style scoped>\n",
       "    .dataframe tbody tr th:only-of-type {\n",
       "        vertical-align: middle;\n",
       "    }\n",
       "\n",
       "    .dataframe tbody tr th {\n",
       "        vertical-align: top;\n",
       "    }\n",
       "\n",
       "    .dataframe thead th {\n",
       "        text-align: right;\n",
       "    }\n",
       "</style>\n",
       "<table border=\"1\" class=\"dataframe\">\n",
       "  <thead>\n",
       "    <tr style=\"text-align: right;\">\n",
       "      <th></th>\n",
       "      <th>서울</th>\n",
       "      <th>대전</th>\n",
       "      <th>부산</th>\n",
       "      <th>광주</th>\n",
       "      <th>원주</th>\n",
       "    </tr>\n",
       "  </thead>\n",
       "  <tbody>\n",
       "    <tr>\n",
       "      <th>0</th>\n",
       "      <td>950</td>\n",
       "      <td>800</td>\n",
       "      <td>920</td>\n",
       "      <td>700</td>\n",
       "      <td>300</td>\n",
       "    </tr>\n",
       "    <tr>\n",
       "      <th>1</th>\n",
       "      <td>945</td>\n",
       "      <td>790</td>\n",
       "      <td>910</td>\n",
       "      <td>690</td>\n",
       "      <td>290</td>\n",
       "    </tr>\n",
       "    <tr>\n",
       "      <th>2</th>\n",
       "      <td>938</td>\n",
       "      <td>780</td>\n",
       "      <td>900</td>\n",
       "      <td>680</td>\n",
       "      <td>250</td>\n",
       "    </tr>\n",
       "  </tbody>\n",
       "</table>\n",
       "</div>"
      ],
      "text/plain": [
       "    서울   대전   부산   광주   원주\n",
       "0  950  800  920  700  300\n",
       "1  945  790  910  690  290\n",
       "2  938  780  900  680  250"
      ]
     },
     "execution_count": 21,
     "metadata": {},
     "output_type": "execute_result"
    }
   ],
   "source": [
    "data = {'서울': [950, 945, 938], \n",
    "        '대전': [800, 790, 780],\n",
    "        '부산': [920, 910, 900],\n",
    "        '광주': [700, 690, 680],\n",
    "        '원주': [300, 290, 250]\n",
    "       }\n",
    "\n",
    "frame = pd.DataFrame(data)\n",
    "frame\n"
   ]
  },
  {
   "cell_type": "markdown",
   "id": "a8d2d764-f6fd-4dbe-a1ea-c742e56330c7",
   "metadata": {},
   "source": [
    "8번 데이터프레임 frame2에 poplevel 컬럼을 추가하고, pop이 2.5 이상이면 \"high\", 2.5보다 작으면 \"low\"로 값을 저장하기\n"
   ]
  },
  {
   "cell_type": "code",
   "execution_count": 35,
   "id": "a2d98850-07d9-4c5d-ad50-7c75e6bf57d4",
   "metadata": {},
   "outputs": [],
   "source": [
    "data = {\"state\": [\"Ohio\", \"Ohio\", \"Ohio\", \"Nevada\", \"Nevada\", \"Nevada\"],\n",
    "        \"year\": [2000, 2001, 2002, 2001, 2002, 2003],\n",
    "        \"pop\": [1.5, 1.7, 3.6, 2.4, 2.9, 3.2]}\n",
    "frame2 = pd.DataFrame(data, columns=[\"year\", \"state\", \"pop\"])\n",
    "\n",
    "val = pd.Series([-1.2, -1.5, -1.7],  index=[\"two\", \"four\", \"five\"])\n",
    "frame2[\"debt\"] = val \n",
    "frame2[\"state\"] == \"Ohio\" # 존재하지 않는 열을 대입할 경우에는 새로운 열이 생성\n",
    "frame2[\"eastern\"] = frame2[\"state\"] == \"Ohio\" # 기존 컬럼에 조건 색인을 적용한 결과을 추가 #수업시간 동안 실습한 내용 적용"
   ]
  },
  {
   "cell_type": "code",
   "execution_count": 36,
   "id": "281adfe8-5df5-4ed9-ae80-3409030a5033",
   "metadata": {},
   "outputs": [
    {
     "name": "stdout",
     "output_type": "stream",
     "text": [
      "   year   state  pop  debt  eastern poplevel\n",
      "0  2000    Ohio  1.5   NaN     True      low\n",
      "1  2001    Ohio  1.7   NaN     True      low\n",
      "2  2002    Ohio  3.6   NaN     True     high\n",
      "3  2001  Nevada  2.4   NaN    False      low\n",
      "4  2002  Nevada  2.9   NaN    False     high\n",
      "5  2003  Nevada  3.2   NaN    False     high\n"
     ]
    }
   ],
   "source": [
    "frame2['poplevel'] = frame2['pop'].apply(lambda x: 'high' if x >= 2.5 else 'low')\n",
    "\n",
    "print(frame2)"
   ]
  },
  {
   "cell_type": "code",
   "execution_count": null,
   "id": "e3253203-09fc-4e80-a1d2-742151608fe3",
   "metadata": {},
   "outputs": [],
   "source": []
  }
 ],
 "metadata": {
  "kernelspec": {
   "display_name": "Python 3 (ipykernel)",
   "language": "python",
   "name": "python3"
  },
  "language_info": {
   "codemirror_mode": {
    "name": "ipython",
    "version": 3
   },
   "file_extension": ".py",
   "mimetype": "text/x-python",
   "name": "python",
   "nbconvert_exporter": "python",
   "pygments_lexer": "ipython3",
   "version": "3.11.3"
  }
 },
 "nbformat": 4,
 "nbformat_minor": 5
}
